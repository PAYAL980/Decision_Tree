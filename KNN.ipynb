{
 "cells": [
  {
   "cell_type": "code",
   "execution_count": 1,
   "metadata": {},
   "outputs": [
    {
     "name": "stdout",
     "output_type": "stream",
     "text": [
      "sepal_length,sepal_width,petal_length,petal_width,species\n",
      "5.1,3.5,1.4,0.2,setosa\n",
      "4.9,3.0,1.4,0.2,setosa\n",
      "4.7,3.2,1.3,0.2,setosa\n",
      "4.6,3.1,1.5,0.2,setosa\n",
      "5.0,3.6,1.4,0.2,setosa\n",
      "5.4,3.9,1.7,0.4,setosa\n",
      "4.6,3.4,1.4,0.3,setosa\n",
      "5.0,3.4,1.5,0.2,setosa\n",
      "4.4,2.9,1.4,0.2,setosa\n",
      "4.9,3.1,1.5,0.1,setosa\n",
      "5.4,3.7,1.5,0.2,setosa\n",
      "4.8,3.4,1.6,0.2,setosa\n",
      "4.8,3.0,1.4,0.1,setosa\n",
      "4.3,3.0,1.1,0.1,setosa\n",
      "5.8,4.0,1.2,0.2,setosa\n",
      "5.7,4.4,1.5,0.4,setosa\n",
      "5.4,3.9,1.3,0.4,setosa\n",
      "5.1,3.5,1.4,0.3,setosa\n",
      "5.7,3.8,1.7,0.3,setosa\n",
      "5.1,3.8,1.5,0.3,setosa\n",
      "5.4,3.4,1.7,0.2,setosa\n",
      "5.1,3.7,1.5,0.4,setosa\n",
      "4.6,3.6,1.0,0.2,setosa\n",
      "5.1,3.3,1.7,0.5,setosa\n",
      "4.8,3.4,1.9,0.2,setosa\n",
      "5.0,3.0,1.6,0.2,setosa\n",
      "5.0,3.4,1.6,0.4,setosa\n",
      "5.2,3.5,1.5,0.2,setosa\n",
      "5.2,3.4,1.4,0.2,setosa\n",
      "4.7,3.2,1.6,0.2,setosa\n",
      "4.8,3.1,1.6,0.2,setosa\n",
      "5.4,3.4,1.5,0.4,setosa\n",
      "5.2,4.1,1.5,0.1,setosa\n",
      "5.5,4.2,1.4,0.2,setosa\n",
      "4.9,3.1,1.5,0.1,setosa\n",
      "5.0,3.2,1.2,0.2,setosa\n",
      "5.5,3.5,1.3,0.2,setosa\n",
      "4.9,3.1,1.5,0.1,setosa\n",
      "4.4,3.0,1.3,0.2,setosa\n",
      "5.1,3.4,1.5,0.2,setosa\n",
      "5.0,3.5,1.3,0.3,setosa\n",
      "4.5,2.3,1.3,0.3,setosa\n",
      "4.4,3.2,1.3,0.2,setosa\n",
      "5.0,3.5,1.6,0.6,setosa\n",
      "5.1,3.8,1.9,0.4,setosa\n",
      "4.8,3.0,1.4,0.3,setosa\n",
      "5.1,3.8,1.6,0.2,setosa\n",
      "4.6,3.2,1.4,0.2,setosa\n",
      "5.3,3.7,1.5,0.2,setosa\n",
      "5.0,3.3,1.4,0.2,setosa\n",
      "7.0,3.2,4.7,1.4,versicolor\n",
      "6.4,3.2,4.5,1.5,versicolor\n",
      "6.9,3.1,4.9,1.5,versicolor\n",
      "5.5,2.3,4.0,1.3,versicolor\n",
      "6.5,2.8,4.6,1.5,versicolor\n",
      "5.7,2.8,4.5,1.3,versicolor\n",
      "6.3,3.3,4.7,1.6,versicolor\n",
      "4.9,2.4,3.3,1.0,versicolor\n",
      "6.6,2.9,4.6,1.3,versicolor\n",
      "5.2,2.7,3.9,1.4,versicolor\n",
      "5.0,2.0,3.5,1.0,versicolor\n",
      "5.9,3.0,4.2,1.5,versicolor\n",
      "6.0,2.2,4.0,1.0,versicolor\n",
      "6.1,2.9,4.7,1.4,versicolor\n",
      "5.6,2.9,3.6,1.3,versicolor\n",
      "6.7,3.1,4.4,1.4,versicolor\n",
      "5.6,3.0,4.5,1.5,versicolor\n",
      "5.8,2.7,4.1,1.0,versicolor\n",
      "6.2,2.2,4.5,1.5,versicolor\n",
      "5.6,2.5,3.9,1.1,versicolor\n",
      "5.9,3.2,4.8,1.8,versicolor\n",
      "6.1,2.8,4.0,1.3,versicolor\n",
      "6.3,2.5,4.9,1.5,versicolor\n",
      "6.1,2.8,4.7,1.2,versicolor\n",
      "6.4,2.9,4.3,1.3,versicolor\n",
      "6.6,3.0,4.4,1.4,versicolor\n",
      "6.8,2.8,4.8,1.4,versicolor\n",
      "6.7,3.0,5.0,1.7,versicolor\n",
      "6.0,2.9,4.5,1.5,versicolor\n",
      "5.7,2.6,3.5,1.0,versicolor\n",
      "5.5,2.4,3.8,1.1,versicolor\n",
      "5.5,2.4,3.7,1.0,versicolor\n",
      "5.8,2.7,3.9,1.2,versicolor\n",
      "6.0,2.7,5.1,1.6,versicolor\n",
      "5.4,3.0,4.5,1.5,versicolor\n",
      "6.0,3.4,4.5,1.6,versicolor\n",
      "6.7,3.1,4.7,1.5,versicolor\n",
      "6.3,2.3,4.4,1.3,versicolor\n",
      "5.6,3.0,4.1,1.3,versicolor\n",
      "5.5,2.5,4.0,1.3,versicolor\n",
      "5.5,2.6,4.4,1.2,versicolor\n",
      "6.1,3.0,4.6,1.4,versicolor\n",
      "5.8,2.6,4.0,1.2,versicolor\n",
      "5.0,2.3,3.3,1.0,versicolor\n",
      "5.6,2.7,4.2,1.3,versicolor\n",
      "5.7,3.0,4.2,1.2,versicolor\n",
      "5.7,2.9,4.2,1.3,versicolor\n",
      "6.2,2.9,4.3,1.3,versicolor\n",
      "5.1,2.5,3.0,1.1,versicolor\n",
      "5.7,2.8,4.1,1.3,versicolor\n",
      "6.3,3.3,6.0,2.5,virginica\n",
      "5.8,2.7,5.1,1.9,virginica\n",
      "7.1,3.0,5.9,2.1,virginica\n",
      "6.3,2.9,5.6,1.8,virginica\n",
      "6.5,3.0,5.8,2.2,virginica\n",
      "7.6,3.0,6.6,2.1,virginica\n",
      "4.9,2.5,4.5,1.7,virginica\n",
      "7.3,2.9,6.3,1.8,virginica\n",
      "6.7,2.5,5.8,1.8,virginica\n",
      "7.2,3.6,6.1,2.5,virginica\n",
      "6.5,3.2,5.1,2.0,virginica\n",
      "6.4,2.7,5.3,1.9,virginica\n",
      "6.8,3.0,5.5,2.1,virginica\n",
      "5.7,2.5,5.0,2.0,virginica\n",
      "5.8,2.8,5.1,2.4,virginica\n",
      "6.4,3.2,5.3,2.3,virginica\n",
      "6.5,3.0,5.5,1.8,virginica\n",
      "7.7,3.8,6.7,2.2,virginica\n",
      "7.7,2.6,6.9,2.3,virginica\n",
      "6.0,2.2,5.0,1.5,virginica\n",
      "6.9,3.2,5.7,2.3,virginica\n",
      "5.6,2.8,4.9,2.0,virginica\n",
      "7.7,2.8,6.7,2.0,virginica\n",
      "6.3,2.7,4.9,1.8,virginica\n",
      "6.7,3.3,5.7,2.1,virginica\n",
      "7.2,3.2,6.0,1.8,virginica\n",
      "6.2,2.8,4.8,1.8,virginica\n",
      "6.1,3.0,4.9,1.8,virginica\n",
      "6.4,2.8,5.6,2.1,virginica\n",
      "7.2,3.0,5.8,1.6,virginica\n",
      "7.4,2.8,6.1,1.9,virginica\n",
      "7.9,3.8,6.4,2.0,virginica\n",
      "6.4,2.8,5.6,2.2,virginica\n",
      "6.3,2.8,5.1,1.5,virginica\n",
      "6.1,2.6,5.6,1.4,virginica\n",
      "7.7,3.0,6.1,2.3,virginica\n",
      "6.3,3.4,5.6,2.4,virginica\n",
      "6.4,3.1,5.5,1.8,virginica\n",
      "6.0,3.0,4.8,1.8,virginica\n",
      "6.9,3.1,5.4,2.1,virginica\n",
      "6.7,3.1,5.6,2.4,virginica\n",
      "6.9,3.1,5.1,2.3,virginica\n",
      "5.8,2.7,5.1,1.9,virginica\n",
      "6.8,3.2,5.9,2.3,virginica\n",
      "6.7,3.3,5.7,2.5,virginica\n",
      "6.7,3.0,5.2,2.3,virginica\n",
      "6.3,2.5,5.0,1.9,virginica\n",
      "6.5,3.0,5.2,2.0,virginica\n",
      "6.2,3.4,5.4,2.3,virginica\n",
      "5.9,3.0,5.1,1.8,virginica\n"
     ]
    }
   ],
   "source": [
    "import csv\n",
    "with open(r'Downloads\\iris.csv') as csvfile:\n",
    "    lines=csv.reader(csvfile)\n",
    "    for row in lines:\n",
    "        print(','.join(row))"
   ]
  },
  {
   "cell_type": "code",
   "execution_count": 13,
   "metadata": {},
   "outputs": [],
   "source": [
    "import random\n",
    "import csv\n",
    "def load_dataset(filname, split, training_data=[], test_data=[]):\n",
    "    with open(filname,'r') as csvfile:\n",
    "        lines = csv.reader(csvfile)\n",
    "        dataset = list(lines)\n",
    "        del dataset[0]\n",
    "        for x in range(len(dataset)-1):\n",
    "            for y in range(4):\n",
    "                dataset[x][y] = float(dataset[x][y])\n",
    "                if random.random() < split:\n",
    "                    training_data.append(dataset[x])\n",
    "                else:\n",
    "                    test_data.append(dataset[x])"
   ]
  },
  {
   "cell_type": "code",
   "execution_count": 14,
   "metadata": {},
   "outputs": [
    {
     "name": "stdout",
     "output_type": "stream",
     "text": [
      "Training Set = 394\n",
      "Test Set = 202\n"
     ]
    }
   ],
   "source": [
    "trainingSet=[]\n",
    "testSet=[]\n",
    "load_dataset(r'Downloads\\iris.csv', 0.66,trainingSet, testSet)\n",
    "print('Training Set = '+repr(len(trainingSet)))\n",
    "print('Test Set = '+ repr(len(testSet)))"
   ]
  },
  {
   "cell_type": "code",
   "execution_count": 15,
   "metadata": {},
   "outputs": [],
   "source": [
    "import math\n",
    "def euclideanDist(instance1,instance2,length):\n",
    "    distance=0\n",
    "    for x in range(length):\n",
    "        distance += pow((instance1[x]-instance2[x]),2)\n",
    "    return math.sqrt(distance)    "
   ]
  },
  {
   "cell_type": "code",
   "execution_count": 16,
   "metadata": {},
   "outputs": [
    {
     "data": {
      "text/plain": [
       "3.4641016151377544"
      ]
     },
     "execution_count": 16,
     "metadata": {},
     "output_type": "execute_result"
    }
   ],
   "source": [
    "data1 = [2,2,2,'a']\n",
    "data2 = [4,4,4,'b']\n",
    "dist = euclideanDist(data1,data2,3)\n",
    "dist"
   ]
  },
  {
   "cell_type": "code",
   "execution_count": 21,
   "metadata": {},
   "outputs": [],
   "source": [
    "import operator\n",
    "def getNeighbors(trainingSet, testInstance, k):\n",
    "    distance=[]\n",
    "    length = len(testInstance)-1\n",
    "    for x in range(len(trainingSet)):\n",
    "        dist = euclideanDist(testInstance,trainingSet[x], length)\n",
    "        distance.append((trainingSet[x],dist))\n",
    "    distance.sort(key=operator.itemgetter(1))\n",
    "    neighbors=[]\n",
    "    for x in range(k):\n",
    "        neighbors.append(distance[x][0])\n",
    "    return neighbors    "
   ]
  },
  {
   "cell_type": "code",
   "execution_count": 22,
   "metadata": {},
   "outputs": [
    {
     "data": {
      "text/plain": [
       "[[4, 4, 4, 'b']]"
      ]
     },
     "execution_count": 22,
     "metadata": {},
     "output_type": "execute_result"
    }
   ],
   "source": [
    "trainSet= [[2,2,2,'a'],[4,4,4,'b']]\n",
    "testInst = [5,5,5]\n",
    "k=1\n",
    "neighbor = getNeighbors(trainSet, testInst, k)\n",
    "neighbor"
   ]
  },
  {
   "cell_type": "code",
   "execution_count": 34,
   "metadata": {},
   "outputs": [],
   "source": [
    "def getResponse(neighbors):\n",
    "    classVotes = {}\n",
    "    for x in range(len(neighbors)):\n",
    "        response = neighbors[x][-1]\n",
    "        if response in classVotes:\n",
    "            classVotes[response] += 1\n",
    "        else:\n",
    "            classVotes[response] = 1\n",
    "    sortedVotes = sorted(classVotes.items(), key=operator.itemgetter(1), reverse = True)\n",
    "    return sortedVotes[0][0]"
   ]
  },
  {
   "cell_type": "code",
   "execution_count": 35,
   "metadata": {},
   "outputs": [
    {
     "data": {
      "text/plain": [
       "'a'"
      ]
     },
     "execution_count": 35,
     "metadata": {},
     "output_type": "execute_result"
    }
   ],
   "source": [
    "neighbors = [[1,1,1,'a'],[2,2,2,'b'],[3,3,3,'a']]\n",
    "response = getResponse(neighbors)\n",
    "response"
   ]
  },
  {
   "cell_type": "code",
   "execution_count": 36,
   "metadata": {},
   "outputs": [],
   "source": [
    "def getAccuracy(testSet, predictions):\n",
    "    correct = 0\n",
    "    for x in range(len(testSet)):\n",
    "        if testSet[x][-1] is predictions[x]:\n",
    "            correct += 1\n",
    "    return (correct/float(len(testSet)))*100        \n",
    "        "
   ]
  },
  {
   "cell_type": "code",
   "execution_count": 37,
   "metadata": {},
   "outputs": [
    {
     "data": {
      "text/plain": [
       "66.66666666666666"
      ]
     },
     "execution_count": 37,
     "metadata": {},
     "output_type": "execute_result"
    }
   ],
   "source": [
    "testSet = [[1,1,1,'a'],[2,2,2,'b'],[3,3,3,'a']]\n",
    "preds = ['a', 'a','a']\n",
    "score = getAccuracy(testSet, preds)\n",
    "score    "
   ]
  },
  {
   "cell_type": "code",
   "execution_count": 46,
   "metadata": {},
   "outputs": [],
   "source": [
    "def main():\n",
    "    trainingSet=[]\n",
    "    testSet=[]\n",
    "    load_dataset(r'Downloads\\iris.csv', 0.66,trainingSet, testSet)\n",
    "    k=3\n",
    "    predictions = []\n",
    "    for x in range(len(testSet)):\n",
    "        neighbors = getNeighbors(trainingSet, testSet[x], k)\n",
    "        response = getResponse(neighbors)\n",
    "        predictions.append(response)\n",
    "        print(\"Predicted = \"+repr(response)+\", Actual = \"+repr(testSet[x][-1]))\n",
    "    accuracy = getAccuracy(testSet, predictions)   \n",
    "    return \"The accuracy is \"+ repr(accuracy)+\"%\""
   ]
  },
  {
   "cell_type": "code",
   "execution_count": 47,
   "metadata": {},
   "outputs": [
    {
     "name": "stdout",
     "output_type": "stream",
     "text": [
      "Predicted = 'setosa', Actual = 'setosa'\n",
      "Predicted = 'setosa', Actual = 'setosa'\n",
      "Predicted = 'setosa', Actual = 'setosa'\n",
      "Predicted = 'setosa', Actual = 'setosa'\n",
      "Predicted = 'setosa', Actual = 'setosa'\n",
      "Predicted = 'setosa', Actual = 'setosa'\n",
      "Predicted = 'setosa', Actual = 'setosa'\n",
      "Predicted = 'setosa', Actual = 'setosa'\n",
      "Predicted = 'setosa', Actual = 'setosa'\n",
      "Predicted = 'setosa', Actual = 'setosa'\n",
      "Predicted = 'setosa', Actual = 'setosa'\n",
      "Predicted = 'setosa', Actual = 'setosa'\n",
      "Predicted = 'setosa', Actual = 'setosa'\n",
      "Predicted = 'setosa', Actual = 'setosa'\n",
      "Predicted = 'setosa', Actual = 'setosa'\n",
      "Predicted = 'setosa', Actual = 'setosa'\n",
      "Predicted = 'setosa', Actual = 'setosa'\n",
      "Predicted = 'setosa', Actual = 'setosa'\n",
      "Predicted = 'setosa', Actual = 'setosa'\n",
      "Predicted = 'setosa', Actual = 'setosa'\n",
      "Predicted = 'setosa', Actual = 'setosa'\n",
      "Predicted = 'setosa', Actual = 'setosa'\n",
      "Predicted = 'setosa', Actual = 'setosa'\n",
      "Predicted = 'setosa', Actual = 'setosa'\n",
      "Predicted = 'setosa', Actual = 'setosa'\n",
      "Predicted = 'setosa', Actual = 'setosa'\n",
      "Predicted = 'setosa', Actual = 'setosa'\n",
      "Predicted = 'setosa', Actual = 'setosa'\n",
      "Predicted = 'setosa', Actual = 'setosa'\n",
      "Predicted = 'setosa', Actual = 'setosa'\n",
      "Predicted = 'setosa', Actual = 'setosa'\n",
      "Predicted = 'setosa', Actual = 'setosa'\n",
      "Predicted = 'setosa', Actual = 'setosa'\n",
      "Predicted = 'setosa', Actual = 'setosa'\n",
      "Predicted = 'setosa', Actual = 'setosa'\n",
      "Predicted = 'setosa', Actual = 'setosa'\n",
      "Predicted = 'setosa', Actual = 'setosa'\n",
      "Predicted = 'setosa', Actual = 'setosa'\n",
      "Predicted = 'setosa', Actual = 'setosa'\n",
      "Predicted = 'setosa', Actual = 'setosa'\n",
      "Predicted = 'setosa', Actual = 'setosa'\n",
      "Predicted = 'setosa', Actual = 'setosa'\n",
      "Predicted = 'setosa', Actual = 'setosa'\n",
      "Predicted = 'setosa', Actual = 'setosa'\n",
      "Predicted = 'setosa', Actual = 'setosa'\n",
      "Predicted = 'setosa', Actual = 'setosa'\n",
      "Predicted = 'setosa', Actual = 'setosa'\n",
      "Predicted = 'setosa', Actual = 'setosa'\n",
      "Predicted = 'setosa', Actual = 'setosa'\n",
      "Predicted = 'setosa', Actual = 'setosa'\n",
      "Predicted = 'setosa', Actual = 'setosa'\n",
      "Predicted = 'setosa', Actual = 'setosa'\n",
      "Predicted = 'setosa', Actual = 'setosa'\n",
      "Predicted = 'setosa', Actual = 'setosa'\n",
      "Predicted = 'setosa', Actual = 'setosa'\n",
      "Predicted = 'setosa', Actual = 'setosa'\n",
      "Predicted = 'setosa', Actual = 'setosa'\n",
      "Predicted = 'setosa', Actual = 'setosa'\n",
      "Predicted = 'setosa', Actual = 'setosa'\n",
      "Predicted = 'setosa', Actual = 'setosa'\n",
      "Predicted = 'setosa', Actual = 'setosa'\n",
      "Predicted = 'setosa', Actual = 'setosa'\n",
      "Predicted = 'setosa', Actual = 'setosa'\n",
      "Predicted = 'setosa', Actual = 'setosa'\n",
      "Predicted = 'setosa', Actual = 'setosa'\n",
      "Predicted = 'setosa', Actual = 'setosa'\n",
      "Predicted = 'setosa', Actual = 'setosa'\n",
      "Predicted = 'versicolor', Actual = 'versicolor'\n",
      "Predicted = 'versicolor', Actual = 'versicolor'\n",
      "Predicted = 'versicolor', Actual = 'versicolor'\n",
      "Predicted = 'versicolor', Actual = 'versicolor'\n",
      "Predicted = 'versicolor', Actual = 'versicolor'\n",
      "Predicted = 'versicolor', Actual = 'versicolor'\n",
      "Predicted = 'versicolor', Actual = 'versicolor'\n",
      "Predicted = 'versicolor', Actual = 'versicolor'\n",
      "Predicted = 'versicolor', Actual = 'versicolor'\n",
      "Predicted = 'versicolor', Actual = 'versicolor'\n",
      "Predicted = 'versicolor', Actual = 'versicolor'\n",
      "Predicted = 'versicolor', Actual = 'versicolor'\n",
      "Predicted = 'versicolor', Actual = 'versicolor'\n",
      "Predicted = 'versicolor', Actual = 'versicolor'\n",
      "Predicted = 'versicolor', Actual = 'versicolor'\n",
      "Predicted = 'versicolor', Actual = 'versicolor'\n",
      "Predicted = 'versicolor', Actual = 'versicolor'\n",
      "Predicted = 'versicolor', Actual = 'versicolor'\n",
      "Predicted = 'versicolor', Actual = 'versicolor'\n",
      "Predicted = 'versicolor', Actual = 'versicolor'\n",
      "Predicted = 'versicolor', Actual = 'versicolor'\n",
      "Predicted = 'versicolor', Actual = 'versicolor'\n",
      "Predicted = 'versicolor', Actual = 'versicolor'\n",
      "Predicted = 'versicolor', Actual = 'versicolor'\n",
      "Predicted = 'versicolor', Actual = 'versicolor'\n",
      "Predicted = 'versicolor', Actual = 'versicolor'\n",
      "Predicted = 'versicolor', Actual = 'versicolor'\n",
      "Predicted = 'versicolor', Actual = 'versicolor'\n",
      "Predicted = 'versicolor', Actual = 'versicolor'\n",
      "Predicted = 'versicolor', Actual = 'versicolor'\n",
      "Predicted = 'versicolor', Actual = 'versicolor'\n",
      "Predicted = 'versicolor', Actual = 'versicolor'\n",
      "Predicted = 'versicolor', Actual = 'versicolor'\n",
      "Predicted = 'versicolor', Actual = 'versicolor'\n",
      "Predicted = 'versicolor', Actual = 'versicolor'\n",
      "Predicted = 'versicolor', Actual = 'versicolor'\n",
      "Predicted = 'versicolor', Actual = 'versicolor'\n",
      "Predicted = 'versicolor', Actual = 'versicolor'\n",
      "Predicted = 'versicolor', Actual = 'versicolor'\n",
      "Predicted = 'versicolor', Actual = 'versicolor'\n",
      "Predicted = 'versicolor', Actual = 'versicolor'\n",
      "Predicted = 'versicolor', Actual = 'versicolor'\n",
      "Predicted = 'versicolor', Actual = 'versicolor'\n",
      "Predicted = 'versicolor', Actual = 'versicolor'\n",
      "Predicted = 'versicolor', Actual = 'versicolor'\n",
      "Predicted = 'versicolor', Actual = 'versicolor'\n",
      "Predicted = 'versicolor', Actual = 'versicolor'\n",
      "Predicted = 'versicolor', Actual = 'versicolor'\n",
      "Predicted = 'versicolor', Actual = 'versicolor'\n",
      "Predicted = 'versicolor', Actual = 'versicolor'\n",
      "Predicted = 'versicolor', Actual = 'versicolor'\n",
      "Predicted = 'versicolor', Actual = 'versicolor'\n",
      "Predicted = 'versicolor', Actual = 'versicolor'\n",
      "Predicted = 'versicolor', Actual = 'versicolor'\n",
      "Predicted = 'versicolor', Actual = 'versicolor'\n",
      "Predicted = 'versicolor', Actual = 'versicolor'\n",
      "Predicted = 'versicolor', Actual = 'versicolor'\n",
      "Predicted = 'versicolor', Actual = 'versicolor'\n",
      "Predicted = 'virginica', Actual = 'virginica'\n",
      "Predicted = 'virginica', Actual = 'virginica'\n",
      "Predicted = 'virginica', Actual = 'virginica'\n",
      "Predicted = 'virginica', Actual = 'virginica'\n",
      "Predicted = 'virginica', Actual = 'virginica'\n",
      "Predicted = 'virginica', Actual = 'virginica'\n",
      "Predicted = 'virginica', Actual = 'virginica'\n",
      "Predicted = 'virginica', Actual = 'virginica'\n",
      "Predicted = 'virginica', Actual = 'virginica'\n",
      "Predicted = 'virginica', Actual = 'virginica'\n",
      "Predicted = 'virginica', Actual = 'virginica'\n",
      "Predicted = 'virginica', Actual = 'virginica'\n",
      "Predicted = 'virginica', Actual = 'virginica'\n",
      "Predicted = 'virginica', Actual = 'virginica'\n",
      "Predicted = 'virginica', Actual = 'virginica'\n",
      "Predicted = 'virginica', Actual = 'virginica'\n",
      "Predicted = 'virginica', Actual = 'virginica'\n",
      "Predicted = 'virginica', Actual = 'virginica'\n",
      "Predicted = 'virginica', Actual = 'virginica'\n",
      "Predicted = 'virginica', Actual = 'virginica'\n",
      "Predicted = 'virginica', Actual = 'virginica'\n",
      "Predicted = 'virginica', Actual = 'virginica'\n",
      "Predicted = 'virginica', Actual = 'virginica'\n",
      "Predicted = 'virginica', Actual = 'virginica'\n",
      "Predicted = 'virginica', Actual = 'virginica'\n",
      "Predicted = 'virginica', Actual = 'virginica'\n",
      "Predicted = 'virginica', Actual = 'virginica'\n",
      "Predicted = 'virginica', Actual = 'virginica'\n",
      "Predicted = 'virginica', Actual = 'virginica'\n",
      "Predicted = 'virginica', Actual = 'virginica'\n",
      "Predicted = 'virginica', Actual = 'virginica'\n",
      "Predicted = 'virginica', Actual = 'virginica'\n",
      "Predicted = 'virginica', Actual = 'virginica'\n",
      "Predicted = 'virginica', Actual = 'virginica'\n",
      "Predicted = 'virginica', Actual = 'virginica'\n",
      "Predicted = 'virginica', Actual = 'virginica'\n",
      "Predicted = 'virginica', Actual = 'virginica'\n",
      "Predicted = 'virginica', Actual = 'virginica'\n",
      "Predicted = 'virginica', Actual = 'virginica'\n",
      "Predicted = 'virginica', Actual = 'virginica'\n",
      "Predicted = 'virginica', Actual = 'virginica'\n",
      "Predicted = 'virginica', Actual = 'virginica'\n",
      "Predicted = 'virginica', Actual = 'virginica'\n",
      "Predicted = 'virginica', Actual = 'virginica'\n",
      "Predicted = 'virginica', Actual = 'virginica'\n",
      "Predicted = 'virginica', Actual = 'virginica'\n",
      "Predicted = 'virginica', Actual = 'virginica'\n",
      "Predicted = 'virginica', Actual = 'virginica'\n",
      "Predicted = 'virginica', Actual = 'virginica'\n",
      "Predicted = 'virginica', Actual = 'virginica'\n",
      "Predicted = 'virginica', Actual = 'virginica'\n",
      "Predicted = 'virginica', Actual = 'virginica'\n",
      "Predicted = 'virginica', Actual = 'virginica'\n",
      "Predicted = 'virginica', Actual = 'virginica'\n",
      "Predicted = 'virginica', Actual = 'virginica'\n",
      "Predicted = 'virginica', Actual = 'virginica'\n",
      "Predicted = 'virginica', Actual = 'virginica'\n",
      "Predicted = 'virginica', Actual = 'virginica'\n",
      "Predicted = 'virginica', Actual = 'virginica'\n",
      "Predicted = 'virginica', Actual = 'virginica'\n",
      "Predicted = 'virginica', Actual = 'virginica'\n",
      "Predicted = 'virginica', Actual = 'virginica'\n",
      "Predicted = 'virginica', Actual = 'virginica'\n",
      "Predicted = 'virginica', Actual = 'virginica'\n"
     ]
    },
    {
     "data": {
      "text/plain": [
       "'The accuracy is 97.35449735449735%'"
      ]
     },
     "execution_count": 47,
     "metadata": {},
     "output_type": "execute_result"
    }
   ],
   "source": [
    "main()"
   ]
  },
  {
   "cell_type": "markdown",
   "metadata": {},
   "source": [
    "## KNN using Scikit-Learn "
   ]
  },
  {
   "cell_type": "code",
   "execution_count": 48,
   "metadata": {},
   "outputs": [],
   "source": [
    "import numpy as np\n",
    "import pandas as pd\n",
    "import matplotlib.pyplot as plt\n",
    "import sklearn"
   ]
  },
  {
   "cell_type": "code",
   "execution_count": 52,
   "metadata": {},
   "outputs": [],
   "source": [
    "data = pd.read_csv(r'Downloads\\iris.csv')"
   ]
  },
  {
   "cell_type": "code",
   "execution_count": 53,
   "metadata": {},
   "outputs": [
    {
     "data": {
      "text/html": [
       "<div>\n",
       "<style scoped>\n",
       "    .dataframe tbody tr th:only-of-type {\n",
       "        vertical-align: middle;\n",
       "    }\n",
       "\n",
       "    .dataframe tbody tr th {\n",
       "        vertical-align: top;\n",
       "    }\n",
       "\n",
       "    .dataframe thead th {\n",
       "        text-align: right;\n",
       "    }\n",
       "</style>\n",
       "<table border=\"1\" class=\"dataframe\">\n",
       "  <thead>\n",
       "    <tr style=\"text-align: right;\">\n",
       "      <th></th>\n",
       "      <th>sepal_length</th>\n",
       "      <th>sepal_width</th>\n",
       "      <th>petal_length</th>\n",
       "      <th>petal_width</th>\n",
       "      <th>species</th>\n",
       "    </tr>\n",
       "  </thead>\n",
       "  <tbody>\n",
       "    <tr>\n",
       "      <th>0</th>\n",
       "      <td>5.1</td>\n",
       "      <td>3.5</td>\n",
       "      <td>1.4</td>\n",
       "      <td>0.2</td>\n",
       "      <td>setosa</td>\n",
       "    </tr>\n",
       "    <tr>\n",
       "      <th>1</th>\n",
       "      <td>4.9</td>\n",
       "      <td>3.0</td>\n",
       "      <td>1.4</td>\n",
       "      <td>0.2</td>\n",
       "      <td>setosa</td>\n",
       "    </tr>\n",
       "    <tr>\n",
       "      <th>2</th>\n",
       "      <td>4.7</td>\n",
       "      <td>3.2</td>\n",
       "      <td>1.3</td>\n",
       "      <td>0.2</td>\n",
       "      <td>setosa</td>\n",
       "    </tr>\n",
       "    <tr>\n",
       "      <th>3</th>\n",
       "      <td>4.6</td>\n",
       "      <td>3.1</td>\n",
       "      <td>1.5</td>\n",
       "      <td>0.2</td>\n",
       "      <td>setosa</td>\n",
       "    </tr>\n",
       "    <tr>\n",
       "      <th>4</th>\n",
       "      <td>5.0</td>\n",
       "      <td>3.6</td>\n",
       "      <td>1.4</td>\n",
       "      <td>0.2</td>\n",
       "      <td>setosa</td>\n",
       "    </tr>\n",
       "  </tbody>\n",
       "</table>\n",
       "</div>"
      ],
      "text/plain": [
       "   sepal_length  sepal_width  petal_length  petal_width species\n",
       "0           5.1          3.5           1.4          0.2  setosa\n",
       "1           4.9          3.0           1.4          0.2  setosa\n",
       "2           4.7          3.2           1.3          0.2  setosa\n",
       "3           4.6          3.1           1.5          0.2  setosa\n",
       "4           5.0          3.6           1.4          0.2  setosa"
      ]
     },
     "execution_count": 53,
     "metadata": {},
     "output_type": "execute_result"
    }
   ],
   "source": [
    "data.head(5)"
   ]
  },
  {
   "cell_type": "code",
   "execution_count": 59,
   "metadata": {},
   "outputs": [],
   "source": [
    "X = data.iloc[:,:-2]\n",
    "y = data.iloc[:,-1]"
   ]
  },
  {
   "cell_type": "code",
   "execution_count": 60,
   "metadata": {},
   "outputs": [
    {
     "data": {
      "text/plain": [
       "0         setosa\n",
       "1         setosa\n",
       "2         setosa\n",
       "3         setosa\n",
       "4         setosa\n",
       "         ...    \n",
       "145    virginica\n",
       "146    virginica\n",
       "147    virginica\n",
       "148    virginica\n",
       "149    virginica\n",
       "Name: species, Length: 150, dtype: object"
      ]
     },
     "execution_count": 60,
     "metadata": {},
     "output_type": "execute_result"
    }
   ],
   "source": [
    "y"
   ]
  },
  {
   "cell_type": "code",
   "execution_count": 104,
   "metadata": {},
   "outputs": [],
   "source": [
    "from sklearn.model_selection import train_test_split"
   ]
  },
  {
   "cell_type": "code",
   "execution_count": 113,
   "metadata": {},
   "outputs": [],
   "source": [
    "X_train, X_test, y_train, y_test = train_test_split(X, y, test_size=0.33, random_state=42)"
   ]
  },
  {
   "cell_type": "code",
   "execution_count": 114,
   "metadata": {},
   "outputs": [],
   "source": [
    "from sklearn.preprocessing import StandardScaler"
   ]
  },
  {
   "cell_type": "code",
   "execution_count": 115,
   "metadata": {},
   "outputs": [],
   "source": [
    "scaler=StandardScaler()\n",
    "scaler.fit(X_train)\n",
    "X_train = scaler.transform(X_train)\n",
    "X_test = scaler.transform(X_test)"
   ]
  },
  {
   "cell_type": "code",
   "execution_count": 116,
   "metadata": {},
   "outputs": [],
   "source": [
    "from sklearn.neighbors import KNeighborsClassifier"
   ]
  },
  {
   "cell_type": "code",
   "execution_count": 117,
   "metadata": {},
   "outputs": [
    {
     "data": {
      "text/plain": [
       "KNeighborsClassifier(algorithm='auto', leaf_size=30, metric='minkowski',\n",
       "                     metric_params=None, n_jobs=None, n_neighbors=5, p=2,\n",
       "                     weights='uniform')"
      ]
     },
     "execution_count": 117,
     "metadata": {},
     "output_type": "execute_result"
    }
   ],
   "source": [
    "model = KNeighborsClassifier(n_neighbors=5)\n",
    "model.fit(X_train,y_train)"
   ]
  },
  {
   "cell_type": "code",
   "execution_count": 118,
   "metadata": {},
   "outputs": [],
   "source": [
    "pred = model.predict(X_test)"
   ]
  },
  {
   "cell_type": "code",
   "execution_count": 119,
   "metadata": {},
   "outputs": [],
   "source": [
    "from sklearn.metrics import confusion_matrix, accuracy_score"
   ]
  },
  {
   "cell_type": "code",
   "execution_count": 120,
   "metadata": {},
   "outputs": [
    {
     "data": {
      "text/plain": [
       "0.92"
      ]
     },
     "execution_count": 120,
     "metadata": {},
     "output_type": "execute_result"
    }
   ],
   "source": [
    "accuracy = accuracy_score(pred, y_test)\n",
    "accuracy"
   ]
  },
  {
   "cell_type": "code",
   "execution_count": 121,
   "metadata": {},
   "outputs": [],
   "source": [
    "confusion_matrix = confusion_matrix(pred, y_test)"
   ]
  },
  {
   "cell_type": "code",
   "execution_count": 122,
   "metadata": {},
   "outputs": [
    {
     "data": {
      "text/plain": [
       "array([[19,  0,  0],\n",
       "       [ 0, 13,  2],\n",
       "       [ 0,  2, 14]], dtype=int64)"
      ]
     },
     "execution_count": 122,
     "metadata": {},
     "output_type": "execute_result"
    }
   ],
   "source": [
    "confusion_matrix"
   ]
  },
  {
   "cell_type": "code",
   "execution_count": null,
   "metadata": {},
   "outputs": [],
   "source": []
  }
 ],
 "metadata": {
  "kernelspec": {
   "display_name": "Python 3.6 (tensorflow)",
   "language": "python",
   "name": "tensorflow"
  },
  "language_info": {
   "codemirror_mode": {
    "name": "ipython",
    "version": 3
   },
   "file_extension": ".py",
   "mimetype": "text/x-python",
   "name": "python",
   "nbconvert_exporter": "python",
   "pygments_lexer": "ipython3",
   "version": "3.7.6"
  }
 },
 "nbformat": 4,
 "nbformat_minor": 4
}
